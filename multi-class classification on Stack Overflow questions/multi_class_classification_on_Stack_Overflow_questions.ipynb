{
  "cells": [
    {
      "cell_type": "code",
      "execution_count": null,
      "metadata": {
        "id": "xIfbZ8ntj3p2"
      },
      "outputs": [],
      "source": [
        "import tensorflow as tf\n",
        "import os\n",
        "import re\n",
        "import shutil\n",
        "import pandas as pd\n",
        "import numpy as np\n",
        "import string\n",
        "import pandas as pd\n",
        "import matplotlib.pyplot as plt"
      ]
    },
    {
      "cell_type": "code",
      "execution_count": null,
      "metadata": {
        "colab": {
          "background_save": true
        },
        "id": "xC1AqieDkUBr",
        "outputId": "6958a760-5d6c-44da-b9ee-df934dd6dd71"
      },
      "outputs": [
        {
          "name": "stdout",
          "output_type": "stream",
          "text": [
            "Downloading data from https://storage.googleapis.com/download.tensorflow.org/data/stack_overflow_16k.tar.gz\n",
            "6053168/6053168 [==============================] - 0s 0us/step\n"
          ]
        }
      ],
      "source": [
        "url='https://storage.googleapis.com/download.tensorflow.org/data/stack_overflow_16k.tar.gz'\n",
        "data=tf.keras.utils.get_file('stack_overflow_16k',url,untar=True, cache_dir='.',\n",
        "                                    cache_subdir='')"
      ]
    },
    {
      "cell_type": "code",
      "execution_count": null,
      "metadata": {
        "colab": {
          "background_save": true,
          "base_uri": "https://localhost:8080/",
          "height": 35
        },
        "id": "OjaRZgetk0hj",
        "outputId": "efe65216-02b5-4e0e-b50d-f236f263f2bf"
      },
      "outputs": [
        {
          "data": {
            "application/vnd.google.colaboratory.intrinsic+json": {
              "type": "string"
            },
            "text/plain": [
              "'./stack_overflow_16k'"
            ]
          },
          "execution_count": 3,
          "metadata": {},
          "output_type": "execute_result"
        }
      ],
      "source": [
        "data"
      ]
    },
    {
      "cell_type": "code",
      "execution_count": null,
      "metadata": {
        "id": "EOlV6ZbMk3pR"
      },
      "outputs": [],
      "source": [
        "data_dir=os.path.dirname(data)"
      ]
    },
    {
      "cell_type": "code",
      "execution_count": null,
      "metadata": {
        "colab": {
          "base_uri": "https://localhost:8080/"
        },
        "id": "rfraxChdkeeO",
        "outputId": "ab4c5c6d-aa9c-4e57-f882-aa57e6c26f8f"
      },
      "outputs": [
        {
          "data": {
            "text/plain": [
              "['.config',\n",
              " 'test',\n",
              " 'train',\n",
              " 'README.md',\n",
              " 'stack_overflow_16k.tar.gz',\n",
              " 'sample_data']"
            ]
          },
          "execution_count": 71,
          "metadata": {},
          "output_type": "execute_result"
        }
      ],
      "source": [
        "os.listdir(os.path.dirname(data))"
      ]
    },
    {
      "cell_type": "code",
      "execution_count": null,
      "metadata": {
        "colab": {
          "base_uri": "https://localhost:8080/"
        },
        "id": "lhgzzb0ikuYy",
        "outputId": "591e7c54-8404-4ee6-9b0f-7339effaacf6"
      },
      "outputs": [
        {
          "data": {
            "text/plain": [
              "['python', 'java', 'csharp', 'javascript']"
            ]
          },
          "execution_count": 72,
          "metadata": {},
          "output_type": "execute_result"
        }
      ],
      "source": [
        "train_data=os.path.join(data_dir,'train')\n",
        "os.listdir(train_data)"
      ]
    },
    {
      "cell_type": "code",
      "execution_count": null,
      "metadata": {
        "colab": {
          "base_uri": "https://localhost:8080/"
        },
        "id": "Umf_PGFvlg_V",
        "outputId": "2ffcb9a6-4fa0-471a-dda3-05cc25f3e7d5"
      },
      "outputs": [
        {
          "data": {
            "text/plain": [
              "['python', 'java', 'csharp', 'javascript']"
            ]
          },
          "execution_count": 73,
          "metadata": {},
          "output_type": "execute_result"
        }
      ],
      "source": [
        "test_data=os.path.join(data_dir,'test')\n",
        "os.listdir(train_data)"
      ]
    },
    {
      "cell_type": "code",
      "execution_count": null,
      "metadata": {
        "colab": {
          "base_uri": "https://localhost:8080/"
        },
        "id": "cubLrX8DmWxC",
        "outputId": "7982f413-db90-41c3-d379-e68eab815aac"
      },
      "outputs": [
        {
          "name": "stdout",
          "output_type": "stream",
          "text": [
            "\"creating variable number of variables in blank i am trying to create a variable number of variables (arrays) in blank. ..i have a database from experiments and i am extracting data from it. i do not have control over the database or how data is written. i am extracting data in the form of a table - first (or zeroth column from blank's perspective) has location ids and subsequent columns have readings over several iterations. location ids (in 0th col) span over million of rows, and so the readings of the iterations are captured in subsequent columns. so i read over the database and create this giant table.  ..in the next step, i loop over columns index 1 to n (0th col has locations) and i am trying to get this - if the difference in 2 readings is more than 0.001, then write the location id to an array... if ( (a[i][j+1] - a[i][j]) &gt; 0.001): #1&lt;=j&lt;=n, 0&lt;=i&lt;=max rows in the table.   then write a[i][0] i.e. location id to an array, arr1[m][n] = a[i][0]...problem: it is creating dynamic number of variables like arr1. i am storing the result of each loop iteration in an array and the number of column j's are known only during runtime. so how can i create variable number of variables like arr1? secondly, each of these variables like arr1 can have different size...i took a look at similar questions, but multi-dimension arrays won't work as each arr1 can have different size. also, performance is important, so i am guessing numpy arrays would be better. i am guessing that dictionary would be slow in performance for such a huge data.\"\n",
            "\n",
            "\"while true: check if name in names amount_of_names = int(input(\"\"input amount of players: \"\")).names = []..for counter in range(amount_of_names):.  name = str(input(\"\"input players first name: \"\")).  names.append(name).#print (names).selected_name = str(input(\"\"input your name: \"\")).import random .names = random.choice(names).while true:.  name in names .  import random .  names = random.choice(names).  break.print (names)...i would like the \"\"while true\"\" statement to run until \"\"name\"\" and \"\"names\"\" do not match, if the name does not match, then print the non-matching name. atm i only get a letter as an output or a syntax error whilst trying to get this working,   effectively unable to be matched with their name if it is already in the list - if anyone can help it would be much appreciated ..amount_of_names = int(input(\"\"input amount of players: \"\")).names = []..for counter in range(amount_of_names):.    name = str(input(\"\"input players first name: \"\")).    names.append(name).#print (names).selected_name = str(input(\"\"input your name: \"\")).import random .names2 = random.choice(names).while true:.    if name != names2:.        import random .        names2 = random.choice(names).        print (name, names2).        break.    else: names2 = random.choice(names)..input amount of players: 6.input players first name: aa.input players first name: ss.input players first name: dd.input players first name: ff.input players first name: gg.input players first name: hh.input your name: ss.hh hh\"\n",
            "\n",
            "\"how to rename key value in blank how can i rename key value in blank?..i have this code :..t =  { u'last_name': [u'hbkjh'], u'no_of_nights': [u'1'], u'check_in': [u'2012-03-19'], u'no_of_adult': [u'', u'1'], u'csrfmiddlewaretoken': [u'05e5bdb542c3be7515b87e8160c347a0'], u'memo': [u'kjhbn'], u'totalcost': [u'1800.0'], u'product': [u'4'], u'exp_month': [u'1'], u'quantity': [u'2'], u'price': [u'900.0'], u'first_name': [u'sdhjb'], u'no_of_kid': [u'', u'0'], u'exp_year': [u'2012'], u'check_out': [u'2012-03-20'], u'email': [u'ebmalifer@agile.com.ph'], u'contact': [u'3546576'], u'extra_test1': [u'jknj'], u'extra_test2': [u'jnjl'], u'security_code': [u'3245'], u'extra_charged': [u'200.0']}.key = {str(k): str(v[0]) for k,v in t.iteritems() if k.startswith('extra_')}.array = [].for val in key:.    data = str(val) + ' = ' + key[val] + ','.    array.append(data).print array...it give me this :..[\"\"extra_charged = 200.0,\"\", \"\"extra_test1 = jknj,\"\", \"\"extra_test2 = jnjl,\"\"]...what should i do to remove the 'extra_' and it makes the output like this:..[\"\"charged = 200.0,\"\", \"\"test1 = jknj,\"\", \"\"test2 = jnjl,\"\"]...can anyone have an idea about my case?.thanks in advance ...\"\n",
            "\n",
            "\"including an integer in a print statement i am trying this, where i is an integer:..sys.stdout.write('thello world %d.n' % i+1)...and it says \"\"cannot concatenate str and int\"\". i have tried various combinations:..int(i) + 1.i + int(1)...... but it's not working\"\n",
            "\n",
            "\"how can i remove nan values from some columns in a csv file? i tried to do some basic statistics on a csv file in blank.what i'm trying to do is making a dictionary of headers and the values of  special columns.but there are some nan values which makes the following error on my code..import csv.reader=csv.reader(f,delimiter=',').import numpy as np.header=next(reader).dataset=[].  for line in reader:.d=dict(zip(header,line)).for field in ['reviews','rating']:.    np.isnan('rating','reviews').    d[field]=int(float(d[field])).    dataset.append(d)...i tried to use numpy.isnan to remove nan values.but i got this error.. return arrays must be of arraytype...therefore,how can i remove the nan values?\"\n",
            "\n",
            "\"blank - create an arbitrary number of lists to store all values in a column i have csv files in which the number of columns are not constant. for each column, i am trying to store all values in that column into a separate list so that i can count the number of recurring values. i have written some code to do this but, it does not seem to append into a list well enough...sample input is love hurt hit. .my input is a csv file with a varible number of rows and a variable number of columns. it keeps changing for a different csv file. say one file has 3 columns and the next file has 20 columns. yes and no are the values which are present under all those columns. the occurrence of those values is random. what i want to do is extract all the values in each individual column, and append them to a list. so, once i exit the for loop, i would ideally like to see all values in a given column; not the last value nor each value printed one below the other. ..when i append all the values, it should be ['love', 'yes' 'no', 'yes' ......] where yes and no are values under the column of love..instead, i have each value printed on a new line such as:..['love']..['yes']........this is what i have so far. please help!..a,b,c = [],[],[].headings = [].allcols = []..def getcolcount(currline):.    return len(currline)    ..# open the file and read it.with open(filename1, 'r') as f1:.. csvlines = csv.reader(f1, delimiter=',').. for linenum, line in enumerate(csvlines):.      colcount = getcolcount(line)               .      allcols = [[] for x in range(0, colcount)]         ..      a.append(line[0])            # this prints like i want it to - in series..      for i in range(0, colcount):..           allcols[i].append(line[i])   # this doesn't..      print ','.join(allcols[2])\"\n",
            "\n",
            "\"how to write a loop that doubles an int based on a condition 100,000 satoshies = 0.001 btc..somethingrandom(btc):.       #code..btc = 0.001.satoshies = btc / 0.00000001...if somethingrandom():.         #double .         somethingrandom(btc).else:.         #reset.          somethingrandom(btc)...if somethingrandom returns true, i want to keep on doubling the amount of satoshies, by doubling the amount of btc..if it returns false, i want to reset the btc to 0.001..any ideas?.thanks.\"\n",
            "\n",
            "\"implementing tables in blank i'm using google app engine on a udacity course online and this code is confusing me. i' haven't seen blank used this way. the instructor doesn't go over nametuple in the entire class so this was out of the blue for me. can anyone explain how this code works and is there an easier why did steve huffman prefer this style of blank coding...from collections import namedtuple..# make a basic link class.link = namedtuple('link', ['id', 'submitter_id', 'submitted_time', 'votes',.                           'title', 'url'])..# list of links to work with.links = [.    link(0, 60398, 1334014208.0, 109,.         \"\"c overtakes java as the no. 1 programming language in the tiobe index.\"\",.         \"\"http://pixelstech.net/article/index.php?id=1333969280\"\"),.    link(1, 60254, 1333962645.0, 891,.         \"\"this explains why technical books are all ridiculously thick and overpriced\"\",.         \"\"http://prog21.dadgum.com/65.html\"\"),.    link(23, 62945, 1333894106.0, 351,.         \"\"learn haskell fast and hard\"\",.         \"\"http://yannesposito.com/scratch/en/blog/haskell-the-hard-way/\"\"),.    link(2, 6084, 1333996166.0, 81,.         \"\"announcing yesod 1.0- a robust, developer friendly, high performance web framework for haskell\"\",.         \"\"http://www.yesodweb.com/blog/2012/04/announcing-yesod-1-0\"\"),.    link(3, 30305, 1333968061.0, 270,.         \"\"til about the lisp curse\"\",.         \"\"http://www.winestockwebdesign.com/essays/lisp_curse.html\"\"),.    link(4, 59008, 1334016506.0, 19,.         \"\"the downfall of imperative programming. functional programming and the multicore revolution\"\",.         \"\"http://fpcomplete.com/the-downfall-of-imperative-programming/\"\"),.    link(5, 8712, 1333993676.0, 26,.         \"\"open source - twitter stock market game - \"\",.         \"\"http://www.twitstreet.com/\"\"),.    link(6, 48626, 1333975127.0, 63,.         \"\"first look: qt 5 makes javascript a first-class citizen for app development\"\",.         \"\"http://arstechnica.com/business/news/2012/04/an-in-depth-look-at-qt-5-making-javascript-a-first-class-citizen-for-native-cross-platform-developme.ars\"\"),.    link(7, 30172, 1334017294.0, 5,.         \"\"benchmark of dictionary structures\"\", \"\"http://lh3lh3.users.sourceforge.net/udb.shtml\"\"),.    link(8, 678, 1334014446.0, 7,.         \"\"if it's not on prod, it doesn't count: the value of frequent releases\"\",.         \"\"http://bits.shutterstock.com/?p=165\"\"),.    link(9, 29168, 1334006443.0, 18,.         \"\"language proposal: dave\"\",.         \"\"http://davelang.github.com/\"\"),.    link(17, 48626, 1334020271.0, 1,.         \"\"lispnyc and emacsnyc meetup tuesday night: large scale development with elisp \"\",.         \"\"http://www.meetup.com/lispnyc/events/47373722/\"\"),.    link(101, 62443, 1334018620.0, 4,.         \"\"research!rsc: zip files all the way down\"\",.         \"\"http://research.swtch.com/zip\"\"),.    link(12, 10262, 1334018169.0, 5,.         \"\"the tyranny of the diff\"\",.         \"\"http://michaelfeathers.typepad.com/michael_feathers_blog/2012/04/the-tyranny-of-the-diff.html\"\"),.    link(13, 20831, 1333996529.0, 14,.         \"\"understanding nio.2 file channels in java 7\"\",.         \"\"http://java.dzone.com/articles/understanding-nio2-file\"\"),.    link(15, 62443, 1333900877.0, 1244,.         \"\"why vector icons don't work\"\",.         \"\"http://www.pushing-pixels.org/2011/11/04/about-those-vector-icons.html\"\"),.    link(14, 30650, 1334013659.0, 3,.         \"\"blank - getting data into graphite - code examples\"\",.         \"\"http://coreygoldberg.blogspot.com/2012/04/blank-getting-data-into-graphite-code.html\"\"),.    link(16, 15330, 1333985877.0, 9,.         \"\"mozilla: the web as the platform and the kilimanjaro event\"\",.         \"\"https://groups.google.com/forum/?fromgroups#!topic/mozilla.dev.planning/y9v46wfeeja\"\"),.    link(18, 62443, 1333939389.0, 104,.         \"\"github is making me feel stupid(er)\"\",.         \"\"http://www.serpentine.com/blog/2012/04/08/github-is-making-me-feel-stupider/\"\"),.    link(19, 6937, 1333949857.0, 39,.         \"\"bitc retrospective: the issues with type classes\"\",.         \"\"http://www.bitc-lang.org/pipermail/bitc-dev/2012-april/003315.html\"\"),.    link(20, 51067, 1333974585.0, 14,.         \"\"object oriented c: class-like structures\"\",.         \"\"http://cecilsunkure.blogspot.com/2012/04/object-oriented-c-class-like-structures.html\"\"),.    link(10, 23944, 1333943632.0, 188,.         \"\"the love game framework version 0.8.0 has been released - with glsl shader support!\"\",.         \"\"https://love2d.org/forums/viewtopic.php?f=3&amp;amp;t=8750\"\"),.    link(22, 39191, 1334005674.0, 11,.         \"\"an open letter to language designers: please kill your sacred cows. (megarant)\"\",.         \"\"http://joshondesign.com/2012/03/09/open-letter-language-designers\"\"),.    link(21, 3777, 1333996565.0, 2,.         \"\"developers guide to garage48 hackatron\"\",.         \"\"http://martingryner.com/developers-guide-to-garage48-hackatron/\"\"),.    link(24, 48626, 1333934004.0, 17,.         \"\"an r programmer looks at julia\"\",.         \"\"http://www.r-bloggers.com/an-r-programmer-looks-at-julia/\"\")]...# links is a list of link objects. links have a handful of properties. for.# example, a link's number of votes can be accessed by link.votes if \"\"link\"\" is a.# link...# make the function query() return the number of votes for the link whose id is.# 15..def query():.    for l in links:.        if l.id == 15:.            return l.votes..print query()\"\n",
            "\n",
            "\"suggestion's on checking the syntax or arguments for a particular module/function we all use blank and its other modules on everyday basis. so when we are stuck with a particular module and its usage. and we want to find out what parameters are supported and passed to the a method ..how do we find the usage of a particular class/module, the parameters passed/supported by it. does everyone google the same or use the help on blank ide? some of the ide like pycharm doesn't display the whole argument list?..from tkinter import *.root=tk().frame=frame() -----&gt; what arguments to pass to the frame class.root.mainloop()\"\n",
            "\n",
            "\"blank - to output contents in a html file to spreadsheet part of below is sourced from another example. it’s modified a bit and use to read a html file, and output the contents into a spreadsheet...as it’s a just a local file, using selenium is maybe an over-kill, but i just want to learn through this example...from selenium import webdriver.import lxml.html as lh.import lxml.html.clean as clean.import xlwt..book = xlwt.workbook(encoding='utf-8', style_compression = 0).sheet = book.add_sheet('seaweb', cell_overwrite_ok = true)..driver = webdriver.phantomjs().ignore_tags=('script','noscript','style')..results = []..driver.get(\"\"source_file.html\"\").content = driver.page_source.cleaner = clean.cleaner().content = cleaner.clean_html(content).doc = lh.fromstring(content)..for elt in doc.iterdescendants():.    if elt.tag in ignore_tags: continue.    text = elt.text or ''                                 #question 1.    tail = elt.tail or ''                                 #question 1.    words = ''.join((text,tail)).strip().    if words:                                   # extra question.        words = words.encode('utf-8')                     #question 2.        results.append(words)                             #question 3.        results.append('; ')                              #question 3..sheet.write (0, 0, results)..book.save(\"\"c:\\ source_output.xls\"\")....the lines text=elt.text or '' and tail=elt.tail or '' – why both .text and .tail have texts? and why the or '' part is important here?.the texts in the html file contains special characters like ° (temperature degrees) – the .encode('utf-8') doesn’t make it a perfect output, neither in idle or excel spreadsheet. what’s the alternative?.is it possible to join the output into a string, instead of a list? now to append it into a list, i have to .append it twice to have the texts and ; added.\"\n",
            "\n"
          ]
        }
      ],
      "source": [
        "test_python=os.path.join(test_data,'python')\n",
        "for i in os.listdir(test_python)[:10]:\n",
        "  with open(os.path.join(test_python,f'{i}')) as f:\n",
        "    print(f.read()) "
      ]
    },
    {
      "cell_type": "markdown",
      "metadata": {
        "id": "g1V_2NFsn45k"
      },
      "source": [
        "## using the text_dataset_from_directory utility to create a labeled"
      ]
    },
    {
      "cell_type": "code",
      "execution_count": null,
      "metadata": {
        "colab": {
          "base_uri": "https://localhost:8080/"
        },
        "id": "w91tn8uRl4dm",
        "outputId": "65b54f0c-6095-44d5-d4cd-788e36040359"
      },
      "outputs": [
        {
          "name": "stdout",
          "output_type": "stream",
          "text": [
            "Found 8000 files belonging to 4 classes.\n",
            "Using 6400 files for training.\n",
            "Found 8000 files belonging to 4 classes.\n",
            "Using 1600 files for validation.\n",
            "Found 8000 files belonging to 4 classes.\n"
          ]
        }
      ],
      "source": [
        "train_batch=tf.keras.utils.text_dataset_from_directory('train',seed=42, validation_split=0.2, subset='training')\n",
        "val_batch=tf.keras.utils.text_dataset_from_directory('train',seed=42, validation_split=0.2, subset='validation')\n",
        "test_batch=tf.keras.utils.text_dataset_from_directory('test',seed=42)"
      ]
    },
    {
      "cell_type": "code",
      "execution_count": null,
      "metadata": {
        "colab": {
          "base_uri": "https://localhost:8080/"
        },
        "id": "c7ujiQ9JqMbh",
        "outputId": "9c9c8eba-9447-451b-bb95-2f9fef98b31f"
      },
      "outputs": [
        {
          "name": "stdout",
          "output_type": "stream",
          "text": [
            "Review b'\"my tester is going to the wrong constructor i am new to programming so if i ask a question that can be easily fixed, please forgive me. my program has a tester class with a main. when i send that to my regularpolygon class, it sends it to the wrong constructor. i have two constructors. 1 without perameters..public regularpolygon().    {.       mynumsides = 5;.       mysidelength = 30;.    }//end default constructor...and my second, with perameters. ..public regularpolygon(int numsides, double sidelength).    {.        mynumsides = numsides;.        mysidelength = sidelength;.    }// end constructor...in my tester class i have these two lines:..regularpolygon shape = new regularpolygon(numsides, sidelength);.        shape.menu();...numsides and sidelength were declared and initialized earlier in the testing class...so what i want to happen, is the tester class sends numsides and sidelength to the second constructor and use it in that class. but it only uses the default constructor, which therefor ruins the whole rest of the program. can somebody help me?..for those of you who want to see more of my code: here you go..public double vertexangle().    {.        system.out.println(\"\"the vertex angle method: \"\" + mynumsides);// prints out 5.        system.out.println(\"\"the vertex angle method: \"\" + mysidelength); // prints out 30..        double vertexangle;.        vertexangle = ((mynumsides - 2.0) / mynumsides) * 180.0;.        return vertexangle;.    }//end method vertexangle..public void menu().{.    system.out.println(mynumsides); // prints out what the user puts in.    system.out.println(mysidelength); // prints out what the user puts in.    gotographic();.    calcr(mynumsides, mysidelength);.    calcr(mynumsides, mysidelength);.    print(); .}// end menu...this is my entire tester class:..public static void main(string[] arg).{.    int numsides;.    double sidelength;.    scanner keyboard = new scanner(system.in);..    system.out.println(\"\"welcome to the regular polygon program!\"\");.    system.out.println();..    system.out.print(\"\"enter the number of sides of the polygon ==&gt; \"\");.    numsides = keyboard.nextint();.    system.out.println();..    system.out.print(\"\"enter the side length of each side ==&gt; \"\");.    sidelength = keyboard.nextdouble();.    system.out.println();..    regularpolygon shape = new regularpolygon(numsides, sidelength);.    shape.menu();.}//end main...for testing it i sent it numsides 4 and sidelength 100.\"\\n'\n",
            "Label 1\n",
            "Review b'\"blank code slow skin detection this code changes the color space to lab and using a threshold finds the skin area of an image. but it\\'s ridiculously slow. i don\\'t know how to make it faster ?    ..from colormath.color_objects import *..def skindetection(img, treshold=80, color=[255,20,147]):..    print img.shape.    res=img.copy().    for x in range(img.shape[0]):.        for y in range(img.shape[1]):.            rgbimg=rgbcolor(img[x,y,0],img[x,y,1],img[x,y,2]).            labimg=rgbimg.convert_to(\\'lab\\', debug=false).            if (labimg.lab_l &gt; treshold):.                res[x,y,:]=color.            else: .                res[x,y,:]=img[x,y,:]..    return res\"\\n'\n",
            "Label 3\n",
            "Review b'\"option and validation in blank i want to add a new option on my system where i want to add two text files, both rental.txt and customer.txt. inside each text are id numbers of the customer, the videotape they need and the price...i want to place it as an option on my code. right now i have:...add customer.rent return.view list.search.exit...i want to add this as my sixth option. say for example i ordered a video, it would display the price and would let me confirm the price and if i am going to buy it or not...here is my current code:..  import blank.io.*;.    import blank.util.arraylist;.    import static blank.lang.system.out;..    public class rentalsystem{.    static bufferedreader input = new bufferedreader(new inputstreamreader(system.in));.    static file file = new file(\"\"file.txt\"\");.    static arraylist&lt;string&gt; list = new arraylist&lt;string&gt;();.    static int rows;..    public static void main(string[] args) throws exception{.        introduction();.        system.out.print(\"\"nn\"\");.        login();.        system.out.print(\"\"nnnnnnnnnnnnnnnnnnnnnn\"\");.        introduction();.        string repeat;.        do{.            loadfile();.            system.out.print(\"\"nwhat do you want to do?nn\"\");.            system.out.print(\"\"n                    - - - - - - - - - - - - - - - - - - - - - - -\"\");.            system.out.print(\"\"nn                    |     1. add customer    |   2. rent return |n\"\");.            system.out.print(\"\"n                    - - - - - - - - - - - - - - - - - - - - - - -\"\");.            system.out.print(\"\"nn                    |     3. view list       |   4. search      |n\"\");.            system.out.print(\"\"n                    - - - - - - - - - - - - - - - - - - - - - - -\"\");.            system.out.print(\"\"nn                                             |   5. exit        |n\"\");.            system.out.print(\"\"n                                              - - - - - - - - - -\"\");.            system.out.print(\"\"nnchoice:\"\");.            int choice = integer.parseint(input.readline());.            switch(choice){.                case 1:.                    writedata();.                    break;.                case 2:.                    rentdata();.                    break;.                case 3:.                    viewlist();.                    break;.                case 4:.                    search();.                    break;.                case 5:.                    system.out.println(\"\"goodbye!\"\");.                    system.exit(0);.                default:.                    system.out.print(\"\"invalid choice: \"\");.                    break;.            }.            system.out.print(\"\"ndo another task? [y/n] \"\");.            repeat = input.readline();.        }while(repeat.equals(\"\"y\"\"));..        if(repeat!=\"\"y\"\") system.out.println(\"\"ngoodbye!\"\");..    }..    public static void writedata() throws exception{.        system.out.print(\"\"nname: \"\");.        string cname = input.readline();.        system.out.print(\"\"address: \"\");.        string add = input.readline();.        system.out.print(\"\"phone no.: \"\");.        string pno = input.readline();.        system.out.print(\"\"rental amount: \"\");.        string ramount = input.readline();.        system.out.print(\"\"tapenumber: \"\");.        string tno = input.readline();.        system.out.print(\"\"title: \"\");.        string title = input.readline();.        system.out.print(\"\"date borrowed: \"\");.        string dborrowed = input.readline();.        system.out.print(\"\"due date: \"\");.        string ddate = input.readline();.        createline(cname, add, pno, ramount,tno, title, dborrowed, ddate);.        rentdata();.    }..    public static void createline(string name, string address, string phone , string rental, string tapenumber, string title, string borrowed, string due) throws exception{.        filewriter fw = new filewriter(file, true);.        fw.write(\"\"nname: \"\"+name + \"\"naddress: \"\" + address +\"\"nphone no.: \"\"+ phone+\"\"nrentalamount: \"\"+rental+\"\"ntape no.: \"\"+ tapenumber+\"\"ntitle: \"\"+ title+\"\"ndate borrowed: \"\"+borrowed +\"\"ndue date: \"\"+ due+\"\":rn\"\");.        fw.close();.    }..    public static void loadfile() throws exception{.        try{.            list.clear();.            fileinputstream fstream = new fileinputstream(file);.            bufferedreader br = new bufferedreader(new inputstreamreader(fstream));.            rows = 0;.            while( br.ready()).            {.                list.add(br.readline());.                rows++;.            }.            br.close();.        } catch(exception e){.            system.out.println(\"\"list not yet loaded.\"\");.        }.    }..    public static void viewlist(){.        system.out.print(\"\"n~ ~ ~ ~ ~ ~ ~ ~ ~ ~ ~\"\");.        system.out.print(\"\" |list of all costumers|\"\");.        system.out.print(\"\"~ ~ ~ ~ ~ ~ ~ ~ ~ ~ ~\"\");.        for(int i = 0; i &lt;rows; i++){.            system.out.println(list.get(i));.        }.    }.        public static void rentdata()throws exception.    {   system.out.print(\"\"n~ ~ ~ ~ ~ ~ ~ ~ ~ ~ ~\"\");.        system.out.print(\"\" |rent data list|\"\");.        system.out.print(\"\"~ ~ ~ ~ ~ ~ ~ ~ ~ ~ ~\"\");.        system.out.print(\"\"nenter customer name: \"\");.        string cname = input.readline();.        system.out.print(\"\"date borrowed: \"\");.        string dborrowed = input.readline();.        system.out.print(\"\"due date: \"\");.        string ddate = input.readline();.        system.out.print(\"\"return date: \"\");.        string rdate = input.readline();.        system.out.print(\"\"rent amount: \"\");.        string ramount = input.readline();..        system.out.print(\"\"you pay:\"\"+ramount);...    }.    public static void search()throws exception.    {   system.out.print(\"\"n~ ~ ~ ~ ~ ~ ~ ~ ~ ~ ~\"\");.        system.out.print(\"\" |search costumers|\"\");.        system.out.print(\"\"~ ~ ~ ~ ~ ~ ~ ~ ~ ~ ~\"\");.        system.out.print(\"\"nenter costumer name: \"\");.        string cname = input.readline();.        boolean found = false;..        for(int i=0; i &lt; rows; i++){.            string temp[] = list.get(i).split(\"\",\"\");..            if(cname.equals(temp[0])){.            system.out.println(\"\"search result:nyou are \"\" + temp[0] + \"\" from \"\" + temp[1] + \"\".\"\"+ temp[2] + \"\".\"\"+ temp[3] + \"\".\"\"+ temp[4] + \"\".\"\"+ temp[5] + \"\" is \"\" + temp[6] + \"\".\"\"+ temp[7] + \"\" is \"\" + temp[8] + \"\".\"\");.                found = true;.            }.        }..        if(!found){.            system.out.print(\"\"no results.\"\");.        }..    }..        public static boolean evaluate(string uname, string pass){.        if (uname.equals(\"\"admin\"\")&amp;&amp;pass.equals(\"\"12345\"\")) return true;.        else return false;.    }..    public static string login()throws exception{.        bufferedreader input=new bufferedreader(new inputstreamreader(system.in));.        int counter=0;.        do{.            system.out.print(\"\"username:\"\");.            string uname =input.readline();.            system.out.print(\"\"password:\"\");.            string pass =input.readline();..            boolean accept= evaluate(uname,pass);..            if(accept){.                break;.                }else{.                    system.out.println(\"\"incorrect username or password!\"\");.                    counter ++;.                    }.        }while(counter&lt;3);..            if(counter !=3) return \"\"login successful\"\";.            else return \"\"login failed\"\";.            }.        public static void introduction() throws exception{..        system.out.println(\"\"                  - - - - - - - - - - - - - - - - - - - - - - - - -\"\");.        system.out.println(\"\"                  !                  r e n t a l                  !\"\");.        system.out.println(\"\"                   ! ~ ~ ~ ~ ~ !  =================  ! ~ ~ ~ ~ ~ !\"\");.        system.out.println(\"\"                  !                  s y s t e m                  !\"\");.        system.out.println(\"\"                  - - - - - - - - - - - - - - - - - - - - - - - - -\"\");.        }..}\"\\n'\n",
            "Label 1\n"
          ]
        }
      ],
      "source": [
        "for text_batch, label_batch in train_batch.take(1):\n",
        "  for i in range(3):\n",
        "    print(\"Review\", text_batch.numpy()[i])\n",
        "    print(\"Label\", label_batch.numpy()[i])"
      ]
    },
    {
      "cell_type": "markdown",
      "metadata": {
        "id": "1am-TOUDqvSt"
      },
      "source": [
        "## Prepare the dataset for training"
      ]
    },
    {
      "cell_type": "code",
      "execution_count": null,
      "metadata": {
        "id": "BPwQoUJpmLE0"
      },
      "outputs": [],
      "source": [
        "def standadization(input_data):\n",
        "  lower_data=tf.strings.lower(input_data)\n",
        "  replace_data=tf.strings.regex_replace(lower_data,'<br />','')\n",
        "  return tf.strings.regex_replace(replace_data,'[%s]'% re.escape(string.punctuation),'')"
      ]
    },
    {
      "cell_type": "code",
      "execution_count": null,
      "metadata": {
        "id": "AjOJYKGTsYvr"
      },
      "outputs": [],
      "source": [
        "vectorize_layer=tf.keras.layers.TextVectorization(max_tokens=1000,standardize=standadization,output_sequence_length=250)"
      ]
    },
    {
      "cell_type": "code",
      "execution_count": null,
      "metadata": {
        "id": "nUR5ZBdZjMYv"
      },
      "outputs": [],
      "source": [
        "# Make a text-only dataset  (without labels), then call adapt\n",
        "train_text = train_batch.map(lambda x, y: x)\n",
        "vectorize_layer.adapt(train_text)"
      ]
    },
    {
      "cell_type": "code",
      "execution_count": null,
      "metadata": {
        "id": "4wSa0moJvnNX"
      },
      "outputs": [],
      "source": [
        "def vectorize_text(text,label):\n",
        "  text=tf.expand_dims(text,-1)\n",
        "  return vectorize_layer(text),label"
      ]
    },
    {
      "cell_type": "code",
      "execution_count": null,
      "metadata": {
        "id": "Q7GvXQaw-3-2"
      },
      "outputs": [],
      "source": [
        "train_map=train_batch.map(vectorize_text)\n",
        "val_map=val_batch.map(vectorize_text)\n",
        "test_map=test_batch.map(vectorize_text)"
      ]
    },
    {
      "cell_type": "markdown",
      "metadata": {
        "id": "uTTQ4UA8h7yo"
      },
      "source": [
        "## Configure the dataset for performance"
      ]
    },
    {
      "cell_type": "code",
      "execution_count": null,
      "metadata": {
        "id": "xBzoUdULh6uO"
      },
      "outputs": [],
      "source": [
        "autotune=tf.data.AUTOTUNE\n",
        "train=train_map.cache().prefetch(buffer_size=autotune)\n",
        "val=val_map.cache().prefetch(buffer_size=autotune)\n",
        "test=test_map.cache().prefetch(buffer_size=autotune)"
      ]
    },
    {
      "cell_type": "code",
      "execution_count": null,
      "metadata": {
        "colab": {
          "base_uri": "https://localhost:8080/"
        },
        "id": "n4XcO6t4KLG-",
        "outputId": "045d1df2-4f59-4dbf-f188-a9c483e3da1a"
      },
      "outputs": [
        {
          "name": "stdout",
          "output_type": "stream",
          "text": [
            "Model: \"sequential_4\"\n",
            "_________________________________________________________________\n",
            " Layer (type)                Output Shape              Param #   \n",
            "=================================================================\n",
            " embedding_4 (Embedding)     (None, None, 16)          16000     \n",
            "                                                                 \n",
            " dropout_8 (Dropout)         (None, None, 16)          0         \n",
            "                                                                 \n",
            " global_average_pooling1d_4   (None, 16)               0         \n",
            " (GlobalAveragePooling1D)                                        \n",
            "                                                                 \n",
            " dropout_9 (Dropout)         (None, 16)                0         \n",
            "                                                                 \n",
            " dense_4 (Dense)             (None, 4)                 68        \n",
            "                                                                 \n",
            "=================================================================\n",
            "Total params: 16,068\n",
            "Trainable params: 16,068\n",
            "Non-trainable params: 0\n",
            "_________________________________________________________________\n"
          ]
        }
      ],
      "source": [
        "model=tf.keras.Sequential()\n",
        "model.add(tf.keras.layers.Embedding(1000,16))\n",
        "model.add(tf.keras.layers.Dropout(0.2))\n",
        "model.add(tf.keras.layers.GlobalAveragePooling1D())\n",
        "model.add(tf.keras.layers.Dropout(0.2))\n",
        "model.add(tf.keras.layers.Dense(4))\n",
        "\n",
        "model.summary()"
      ]
    },
    {
      "cell_type": "code",
      "execution_count": null,
      "metadata": {
        "id": "IPk4zmgRNQuQ"
      },
      "outputs": [],
      "source": [
        "model.compile(optimizer='adam',metrics=['accuracy'],loss=tf.keras.losses.SparseCategoricalCrossentropy(from_logits=True))"
      ]
    },
    {
      "cell_type": "code",
      "execution_count": null,
      "metadata": {
        "colab": {
          "base_uri": "https://localhost:8080/"
        },
        "id": "c1l33-WHOAoj",
        "outputId": "9c5c8e79-a712-420b-ced5-97dee31295ce"
      },
      "outputs": [
        {
          "name": "stdout",
          "output_type": "stream",
          "text": [
            "Epoch 1/50\n",
            "200/200 - 3s - loss: 1.3788 - accuracy: 0.3239 - val_loss: 1.3681 - val_accuracy: 0.4212 - 3s/epoch - 14ms/step\n",
            "Epoch 2/50\n",
            "200/200 - 1s - loss: 1.3538 - accuracy: 0.4292 - val_loss: 1.3325 - val_accuracy: 0.4888 - 773ms/epoch - 4ms/step\n",
            "Epoch 3/50\n",
            "200/200 - 1s - loss: 1.3093 - accuracy: 0.4825 - val_loss: 1.2779 - val_accuracy: 0.5275 - 755ms/epoch - 4ms/step\n",
            "Epoch 4/50\n",
            "200/200 - 1s - loss: 1.2506 - accuracy: 0.5141 - val_loss: 1.2144 - val_accuracy: 0.5544 - 792ms/epoch - 4ms/step\n",
            "Epoch 5/50\n",
            "200/200 - 1s - loss: 1.1895 - accuracy: 0.5536 - val_loss: 1.1514 - val_accuracy: 0.5975 - 916ms/epoch - 5ms/step\n",
            "Epoch 6/50\n",
            "200/200 - 1s - loss: 1.1306 - accuracy: 0.5927 - val_loss: 1.0926 - val_accuracy: 0.6438 - 828ms/epoch - 4ms/step\n",
            "Epoch 7/50\n",
            "200/200 - 1s - loss: 1.0751 - accuracy: 0.6272 - val_loss: 1.0396 - val_accuracy: 0.6681 - 785ms/epoch - 4ms/step\n",
            "Epoch 8/50\n",
            "200/200 - 1s - loss: 1.0273 - accuracy: 0.6406 - val_loss: 0.9915 - val_accuracy: 0.6787 - 792ms/epoch - 4ms/step\n",
            "Epoch 9/50\n",
            "200/200 - 1s - loss: 0.9825 - accuracy: 0.6627 - val_loss: 0.9488 - val_accuracy: 0.6931 - 1s/epoch - 6ms/step\n",
            "Epoch 10/50\n",
            "200/200 - 1s - loss: 0.9428 - accuracy: 0.6773 - val_loss: 0.9105 - val_accuracy: 0.6950 - 992ms/epoch - 5ms/step\n",
            "Epoch 11/50\n",
            "200/200 - 1s - loss: 0.9077 - accuracy: 0.6856 - val_loss: 0.8763 - val_accuracy: 0.7075 - 768ms/epoch - 4ms/step\n",
            "Epoch 12/50\n",
            "200/200 - 1s - loss: 0.8771 - accuracy: 0.6975 - val_loss: 0.8465 - val_accuracy: 0.7163 - 734ms/epoch - 4ms/step\n",
            "Epoch 13/50\n",
            "200/200 - 1s - loss: 0.8477 - accuracy: 0.7084 - val_loss: 0.8193 - val_accuracy: 0.7231 - 791ms/epoch - 4ms/step\n",
            "Epoch 14/50\n",
            "200/200 - 1s - loss: 0.8241 - accuracy: 0.7095 - val_loss: 0.7959 - val_accuracy: 0.7287 - 757ms/epoch - 4ms/step\n",
            "Epoch 15/50\n",
            "200/200 - 1s - loss: 0.8021 - accuracy: 0.7195 - val_loss: 0.7748 - val_accuracy: 0.7331 - 818ms/epoch - 4ms/step\n",
            "Epoch 16/50\n",
            "200/200 - 1s - loss: 0.7808 - accuracy: 0.7197 - val_loss: 0.7553 - val_accuracy: 0.7387 - 755ms/epoch - 4ms/step\n",
            "Epoch 17/50\n",
            "200/200 - 1s - loss: 0.7601 - accuracy: 0.7314 - val_loss: 0.7382 - val_accuracy: 0.7406 - 759ms/epoch - 4ms/step\n",
            "Epoch 18/50\n",
            "200/200 - 1s - loss: 0.7451 - accuracy: 0.7330 - val_loss: 0.7228 - val_accuracy: 0.7487 - 789ms/epoch - 4ms/step\n",
            "Epoch 19/50\n",
            "200/200 - 1s - loss: 0.7281 - accuracy: 0.7422 - val_loss: 0.7082 - val_accuracy: 0.7519 - 958ms/epoch - 5ms/step\n",
            "Epoch 20/50\n",
            "200/200 - 1s - loss: 0.7116 - accuracy: 0.7459 - val_loss: 0.6954 - val_accuracy: 0.7550 - 868ms/epoch - 4ms/step\n",
            "Epoch 21/50\n",
            "200/200 - 1s - loss: 0.6989 - accuracy: 0.7483 - val_loss: 0.6842 - val_accuracy: 0.7569 - 761ms/epoch - 4ms/step\n",
            "Epoch 22/50\n",
            "200/200 - 1s - loss: 0.6895 - accuracy: 0.7514 - val_loss: 0.6731 - val_accuracy: 0.7588 - 770ms/epoch - 4ms/step\n",
            "Epoch 23/50\n",
            "200/200 - 1s - loss: 0.6752 - accuracy: 0.7567 - val_loss: 0.6643 - val_accuracy: 0.7606 - 753ms/epoch - 4ms/step\n",
            "Epoch 24/50\n",
            "200/200 - 1s - loss: 0.6654 - accuracy: 0.7559 - val_loss: 0.6541 - val_accuracy: 0.7650 - 753ms/epoch - 4ms/step\n",
            "Epoch 25/50\n",
            "200/200 - 1s - loss: 0.6558 - accuracy: 0.7653 - val_loss: 0.6455 - val_accuracy: 0.7669 - 743ms/epoch - 4ms/step\n",
            "Epoch 26/50\n",
            "200/200 - 1s - loss: 0.6405 - accuracy: 0.7688 - val_loss: 0.6376 - val_accuracy: 0.7669 - 800ms/epoch - 4ms/step\n",
            "Epoch 27/50\n",
            "200/200 - 1s - loss: 0.6337 - accuracy: 0.7681 - val_loss: 0.6303 - val_accuracy: 0.7731 - 748ms/epoch - 4ms/step\n",
            "Epoch 28/50\n",
            "200/200 - 1s - loss: 0.6244 - accuracy: 0.7719 - val_loss: 0.6238 - val_accuracy: 0.7750 - 755ms/epoch - 4ms/step\n",
            "Epoch 29/50\n",
            "200/200 - 1s - loss: 0.6149 - accuracy: 0.7742 - val_loss: 0.6173 - val_accuracy: 0.7731 - 1s/epoch - 6ms/step\n",
            "Epoch 30/50\n",
            "200/200 - 1s - loss: 0.6069 - accuracy: 0.7753 - val_loss: 0.6118 - val_accuracy: 0.7763 - 746ms/epoch - 4ms/step\n",
            "Epoch 31/50\n",
            "200/200 - 1s - loss: 0.6014 - accuracy: 0.7792 - val_loss: 0.6065 - val_accuracy: 0.7769 - 783ms/epoch - 4ms/step\n",
            "Epoch 32/50\n",
            "200/200 - 1s - loss: 0.5928 - accuracy: 0.7842 - val_loss: 0.6015 - val_accuracy: 0.7775 - 746ms/epoch - 4ms/step\n",
            "Epoch 33/50\n",
            "200/200 - 1s - loss: 0.5855 - accuracy: 0.7850 - val_loss: 0.5970 - val_accuracy: 0.7756 - 740ms/epoch - 4ms/step\n",
            "Epoch 34/50\n",
            "200/200 - 1s - loss: 0.5784 - accuracy: 0.7939 - val_loss: 0.5924 - val_accuracy: 0.7788 - 758ms/epoch - 4ms/step\n",
            "Epoch 35/50\n",
            "200/200 - 1s - loss: 0.5714 - accuracy: 0.7894 - val_loss: 0.5888 - val_accuracy: 0.7819 - 763ms/epoch - 4ms/step\n",
            "Epoch 36/50\n",
            "200/200 - 1s - loss: 0.5681 - accuracy: 0.7897 - val_loss: 0.5846 - val_accuracy: 0.7819 - 747ms/epoch - 4ms/step\n",
            "Epoch 37/50\n",
            "200/200 - 1s - loss: 0.5602 - accuracy: 0.7942 - val_loss: 0.5820 - val_accuracy: 0.7831 - 792ms/epoch - 4ms/step\n",
            "Epoch 38/50\n",
            "200/200 - 1s - loss: 0.5541 - accuracy: 0.7959 - val_loss: 0.5780 - val_accuracy: 0.7837 - 770ms/epoch - 4ms/step\n",
            "Epoch 39/50\n",
            "200/200 - 1s - loss: 0.5485 - accuracy: 0.8016 - val_loss: 0.5752 - val_accuracy: 0.7819 - 1s/epoch - 6ms/step\n",
            "Epoch 40/50\n",
            "200/200 - 1s - loss: 0.5422 - accuracy: 0.8028 - val_loss: 0.5725 - val_accuracy: 0.7837 - 813ms/epoch - 4ms/step\n",
            "Epoch 41/50\n",
            "200/200 - 1s - loss: 0.5415 - accuracy: 0.8058 - val_loss: 0.5694 - val_accuracy: 0.7837 - 807ms/epoch - 4ms/step\n",
            "Epoch 42/50\n",
            "200/200 - 1s - loss: 0.5336 - accuracy: 0.8048 - val_loss: 0.5674 - val_accuracy: 0.7850 - 756ms/epoch - 4ms/step\n",
            "Epoch 43/50\n",
            "200/200 - 1s - loss: 0.5292 - accuracy: 0.8097 - val_loss: 0.5647 - val_accuracy: 0.7844 - 771ms/epoch - 4ms/step\n",
            "Epoch 44/50\n",
            "200/200 - 1s - loss: 0.5269 - accuracy: 0.8123 - val_loss: 0.5626 - val_accuracy: 0.7844 - 861ms/epoch - 4ms/step\n",
            "Epoch 45/50\n",
            "200/200 - 1s - loss: 0.5193 - accuracy: 0.8120 - val_loss: 0.5608 - val_accuracy: 0.7850 - 803ms/epoch - 4ms/step\n",
            "Epoch 46/50\n",
            "200/200 - 1s - loss: 0.5131 - accuracy: 0.8159 - val_loss: 0.5589 - val_accuracy: 0.7856 - 805ms/epoch - 4ms/step\n",
            "Epoch 47/50\n",
            "200/200 - 1s - loss: 0.5093 - accuracy: 0.8184 - val_loss: 0.5576 - val_accuracy: 0.7837 - 753ms/epoch - 4ms/step\n",
            "Epoch 48/50\n",
            "200/200 - 1s - loss: 0.5044 - accuracy: 0.8158 - val_loss: 0.5556 - val_accuracy: 0.7844 - 805ms/epoch - 4ms/step\n",
            "Epoch 49/50\n",
            "200/200 - 1s - loss: 0.4991 - accuracy: 0.8186 - val_loss: 0.5542 - val_accuracy: 0.7844 - 962ms/epoch - 5ms/step\n",
            "Epoch 50/50\n",
            "200/200 - 1s - loss: 0.4997 - accuracy: 0.8161 - val_loss: 0.5532 - val_accuracy: 0.7850 - 1s/epoch - 5ms/step\n"
          ]
        }
      ],
      "source": [
        "history=model.fit(train,validation_data=val,epochs=50,callbacks=tf.keras.callbacks.EarlyStopping(patience=2,restore_best_weights=True),verbose=2)"
      ]
    },
    {
      "cell_type": "code",
      "execution_count": null,
      "metadata": {
        "colab": {
          "base_uri": "https://localhost:8080/"
        },
        "id": "F4D-nS7SDxZE",
        "outputId": "98b70276-0a10-45b1-d94f-eaac961ccae1"
      },
      "outputs": [
        {
          "name": "stdout",
          "output_type": "stream",
          "text": [
            "250/250 [==============================] - 1s 4ms/step - loss: 0.6149 - accuracy: 0.7560\n"
          ]
        },
        {
          "data": {
            "text/plain": [
              "[0.6149387955665588, 0.7559999823570251]"
            ]
          },
          "execution_count": 90,
          "metadata": {},
          "output_type": "execute_result"
        }
      ],
      "source": [
        "model.evaluate(test)"
      ]
    },
    {
      "cell_type": "code",
      "execution_count": null,
      "metadata": {
        "colab": {
          "base_uri": "https://localhost:8080/"
        },
        "id": "CPdqUzGO_SgE",
        "outputId": "a6b2c7a8-b5ae-47ec-dd95-b11e1bdb8b47"
      },
      "outputs": [
        {
          "name": "stdout",
          "output_type": "stream",
          "text": [
            "(<tf.Tensor: shape=(1, 250), dtype=int64, numpy=\n",
            "array([[ 55,   6,   2, 410, 211, 229, 121, 895,   4, 124,  32, 245,  43,\n",
            "          5,   1,   1,   5,   1,   1,   6,   2, 410, 211, 191, 318,  14,\n",
            "          2,  98,  71, 188,   8,   2, 199,  71, 178,   0,   0,   0,   0,\n",
            "          0,   0,   0,   0,   0,   0,   0,   0,   0,   0,   0,   0,   0,\n",
            "          0,   0,   0,   0,   0,   0,   0,   0,   0,   0,   0,   0,   0,\n",
            "          0,   0,   0,   0,   0,   0,   0,   0,   0,   0,   0,   0,   0,\n",
            "          0,   0,   0,   0,   0,   0,   0,   0,   0,   0,   0,   0,   0,\n",
            "          0,   0,   0,   0,   0,   0,   0,   0,   0,   0,   0,   0,   0,\n",
            "          0,   0,   0,   0,   0,   0,   0,   0,   0,   0,   0,   0,   0,\n",
            "          0,   0,   0,   0,   0,   0,   0,   0,   0,   0,   0,   0,   0,\n",
            "          0,   0,   0,   0,   0,   0,   0,   0,   0,   0,   0,   0,   0,\n",
            "          0,   0,   0,   0,   0,   0,   0,   0,   0,   0,   0,   0,   0,\n",
            "          0,   0,   0,   0,   0,   0,   0,   0,   0,   0,   0,   0,   0,\n",
            "          0,   0,   0,   0,   0,   0,   0,   0,   0,   0,   0,   0,   0,\n",
            "          0,   0,   0,   0,   0,   0,   0,   0,   0,   0,   0,   0,   0,\n",
            "          0,   0,   0,   0,   0,   0,   0,   0,   0,   0,   0,   0,   0,\n",
            "          0,   0,   0,   0,   0,   0,   0,   0,   0,   0,   0,   0,   0,\n",
            "          0,   0,   0,   0,   0,   0,   0,   0,   0,   0,   0,   0,   0,\n",
            "          0,   0,   0,   0,   0,   0,   0,   0,   0,   0,   0,   0,   0,\n",
            "          0,   0,   0]])>, <tf.Tensor: shape=(), dtype=int32, numpy=2>)\n"
          ]
        }
      ],
      "source": [
        "for a,b in train_batch.take(1):\n",
        "=  print(vectorize_text(a[0],b[0]))"
      ]
    },
    {
      "cell_type": "code",
      "execution_count": null,
      "metadata": {
        "id": "Uas9X1gyAKWu"
      },
      "outputs": [],
      "source": [
        "history=history.history"
      ]
    },
    {
      "cell_type": "code",
      "execution_count": null,
      "metadata": {
        "colab": {
          "base_uri": "https://localhost:8080/"
        },
        "id": "KUL8k07JD7UU",
        "outputId": "8de16cd0-8eff-4d9a-9d00-93ba25f116b4"
      },
      "outputs": [
        {
          "data": {
            "text/plain": [
              "dict_keys(['loss', 'accuracy', 'val_loss', 'val_accuracy'])"
            ]
          },
          "execution_count": 93,
          "metadata": {},
          "output_type": "execute_result"
        }
      ],
      "source": [
        "history.keys()"
      ]
    },
    {
      "cell_type": "code",
      "execution_count": null,
      "metadata": {
        "id": "Kkkz336rEYet"
      },
      "outputs": [],
      "source": [
        "loss=history['loss']\n",
        "accuracy=history['accuracy']\n",
        "val_loss=history['val_loss']\n",
        "val_accuracy=history['val_accuracy']"
      ]
    },
    {
      "cell_type": "code",
      "execution_count": null,
      "metadata": {
        "colab": {
          "base_uri": "https://localhost:8080/",
          "height": 489
        },
        "id": "_dE3RyooHZNk",
        "outputId": "0d037415-6fcb-459e-ecfa-20622cea49d8"
      },
      "outputs": [
        {
          "data": {
            "text/plain": [
              "Text(0.5, 1.0, 'loss and validation loss')"
            ]
          },
          "execution_count": 96,
          "metadata": {},
          "output_type": "execute_result"
        },
        {
          "data": {
            "image/png": "[encoded data removed]",
            "text/plain": [
              "<Figure size 640x480 with 1 Axes>"
            ]
          },
          "metadata": {},
          "output_type": "display_data"
        }
      ],
      "source": [
        "epochs=50\n",
        "plt.plot(range(epochs),loss,label=f'loss {round(np.max(loss),2)*100}%')\n",
        "plt.plot(range(epochs),val_loss,'--',label=f'validation loss {round(np.max(accuracy),2)*100}%')\n",
        "plt.xlabel('epochs')\n",
        "plt.ylabel('loss')\n",
        "plt.legend()\n",
        "plt.title('loss and validation loss')"
      ]
    },
    {
      "cell_type": "code",
      "execution_count": null,
      "metadata": {
        "colab": {
          "base_uri": "https://localhost:8080/",
          "height": 489
        },
        "id": "41_LTNggISEt",
        "outputId": "cd28b139-fc7c-465d-8e34-60b9b6730c99"
      },
      "outputs": [
        {
          "data": {
            "text/plain": [
              "Text(0.5, 1.0, 'Accuracy and validation Accuracy')"
            ]
          },
          "execution_count": 97,
          "metadata": {},
          "output_type": "execute_result"
        },
        {
          "data": {
            "image/png": "[encoded data removed]",
            "text/plain": [
              "<Figure size 640x480 with 1 Axes>"
            ]
          },
          "metadata": {},
          "output_type": "display_data"
        }
      ],
      "source": [
        "plt.plot(range(len(loss)),accuracy,label=f'Accuracy {round(np.max(accuracy),2)*100}%')\n",
        "plt.plot(range(len(loss)),val_accuracy,'--',label=f'Validation Accuracy {round(np.max(val_accuracy),2)*100}%')\n",
        "plt.xlabel('epochs')\n",
        "plt.ylabel('Accuracy')\n",
        "plt.legend()\n",
        "plt.title('Accuracy and validation Accuracy')"
      ]
    },
    {
      "cell_type": "code",
      "execution_count": null,
      "metadata": {
        "id": "1Tq_iwJbpLEV"
      },
      "outputs": [],
      "source": [
        "export_model =tf.keras.Sequential([vectorize_layer,model,tf.keras.layers.Activation('softmax')])"
      ]
    },
    {
      "cell_type": "code",
      "execution_count": null,
      "metadata": {
        "id": "SC5SeRv2pve3"
      },
      "outputs": [],
      "source": [
        "export_model.compile(\n",
        "    loss=tf.keras.losses.SparseCategoricalCrossentropy(from_logits=False), optimizer=\"adam\", metrics=['accuracy']\n",
        ")"
      ]
    },
    {
      "cell_type": "code",
      "execution_count": null,
      "metadata": {
        "colab": {
          "base_uri": "https://localhost:8080/"
        },
        "id": "EYNpOG1nqCN1",
        "outputId": "fc0297f0-bd1e-4986-8f2f-1075abb2b760"
      },
      "outputs": [
        {
          "name": "stdout",
          "output_type": "stream",
          "text": [
            "1/1 [==============================] - 0s 126ms/step\n"
          ]
        },
        {
          "data": {
            "text/plain": [
              "array([[0.3290705 , 0.20813507, 0.3268602 , 0.13593425],\n",
              "       [0.3290705 , 0.20813507, 0.3268602 , 0.13593425],\n",
              "       [0.3290705 , 0.20813507, 0.32686022, 0.13593425]], dtype=float32)"
            ]
          },
          "execution_count": 100,
          "metadata": {},
          "output_type": "execute_result"
        }
      ],
      "source": [
        "examples = [\n",
        "  \"The movie was great!\",\n",
        "  \"The movie was okay.\",\n",
        "  \"The movie was terrible...\"\n",
        "]\n",
        "\n",
        "export_model.predict(examples)"
      ]
    },
    {
      "cell_type": "code",
      "execution_count": null,
      "metadata": {
        "id": "hZuaoR6TqJcs"
      },
      "outputs": [],
      "source": [
        "test_python=(os.path.join(test_data,'python'))"
      ]
    },
    {
      "cell_type": "code",
      "execution_count": null,
      "metadata": {
        "id": "RYhdTr_eqlbF"
      },
      "outputs": [],
      "source": [
        "exe=[]\n",
        "asa=os.path.join(test_python,'703.txt')\n",
        "with open(asa) as f:\n",
        "  exe.append(f.read())"
      ]
    },
    {
      "cell_type": "code",
      "execution_count": null,
      "metadata": {
        "colab": {
          "base_uri": "https://localhost:8080/"
        },
        "id": "mp8dXFFHrj_A",
        "outputId": "1c413d44-fe8e-423c-eca6-96b80ac4354b"
      },
      "outputs": [
        {
          "data": {
            "text/plain": [
              "['\"how to change the color channels of an image in blank? this is a question that probably should be floating around somewhere here, but i don\\'t seem to find it...i have this code:..import matplotlib.image as img     ..img1 = img.imread(\\'./images_32x32/test_1.png\\').print(\"\"shape = \"\", img1.shape) # output: 32x32x3..img2 = img.imread(\\'./images_32x32/test_2.png\\').print(\"\"shape = \"\", img2.shape) # output: 32x32x4...my problem is in the shape of img2 (img2.shape) i would like it to be also 3...how do i change this?\"\\n']"
            ]
          },
          "execution_count": 110,
          "metadata": {},
          "output_type": "execute_result"
        }
      ],
      "source": [
        "exe"
      ]
    },
    {
      "cell_type": "code",
      "execution_count": null,
      "metadata": {
        "colab": {
          "base_uri": "https://localhost:8080/"
        },
        "id": "tJ3hrcxzsRLh",
        "outputId": "d84c9744-f39f-4a37-ba69-d57855a714db"
      },
      "outputs": [
        {
          "name": "stdout",
          "output_type": "stream",
          "text": [
            "1/1 [==============================] - 0s 35ms/step\n"
          ]
        },
        {
          "data": {
            "text/plain": [
              "array([[0.09181364, 0.17843649, 0.17666477, 0.5530851 ]], dtype=float32)"
            ]
          },
          "execution_count": 111,
          "metadata": {},
          "output_type": "execute_result"
        }
      ],
      "source": [
        "export_model.predict(exe)"
      ]
    },
    {
      "cell_type": "code",
      "execution_count": null,
      "metadata": {
        "id": "MaNq2iGRsaG3"
      },
      "outputs": [],
      "source": []
    }
  ],
  "metadata": {
    "colab": {
      "provenance": []
    },
    "kernelspec": {
      "display_name": "Python 3",
      "name": "python3"
    },
    "language_info": {
      "name": "python"
    }
  },
  "nbformat": 4,
  "nbformat_minor": 0
}